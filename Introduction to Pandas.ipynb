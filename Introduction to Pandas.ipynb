{
 "cells": [
  {
   "cell_type": "code",
   "execution_count": 1,
   "metadata": {},
   "outputs": [],
   "source": [
    "import pandas as pd\n",
    "import numpy as np\n",
    "import matplotlib.pyplot as plt"
   ]
  },
  {
   "cell_type": "markdown",
   "metadata": {},
   "source": [
    "# Series - 1D Array"
   ]
  },
  {
   "cell_type": "code",
   "execution_count": 7,
   "metadata": {},
   "outputs": [
    {
     "name": "stdout",
     "output_type": "stream",
     "text": [
      "0    1.0\n",
      "1    3.0\n",
      "2    5.0\n",
      "3    NaN\n",
      "4    6.0\n",
      "5    8.0\n",
      "dtype: float64\n",
      "0    [1, 3, 5, nan, 6, 8]\n",
      "1    [1, 3, 5, nan, 6, 8]\n",
      "2    [1, 3, 5, nan, 6, 8]\n",
      "dtype: object\n",
      "a         8\n",
      "b         2\n",
      "c         3\n",
      "d        yo\n",
      "hello    hi\n",
      "f         8\n",
      "z         4\n",
      "dtype: object\n"
     ]
    }
   ],
   "source": [
    "# A series is a 1D array which can hold anything. It is indexed by an index. \n",
    "# By default is it integer. You can specify anything else\n",
    "s = pd.Series([1,3,5,np.nan,6,8])\n",
    "t = pd.Series([[1,3,5,np.nan,6,8], [1,3,5,np.nan,6,8], [1,3,5,np.nan,6,8]])\n",
    "u = pd.Series([8,2,3,\"yo\",\"hi\",8,4.0], index=[\"a\", \"b\", \"c\",\"d\", \"hello\", \"f\", \"z\"])\n",
    "print (s)\n",
    "print (t)\n",
    "print(u)"
   ]
  },
  {
   "cell_type": "code",
   "execution_count": 8,
   "metadata": {},
   "outputs": [
    {
     "data": {
      "text/plain": [
       "5.0"
      ]
     },
     "execution_count": 8,
     "metadata": {},
     "output_type": "execute_result"
    }
   ],
   "source": [
    "s[2]"
   ]
  },
  {
   "cell_type": "code",
   "execution_count": 9,
   "metadata": {},
   "outputs": [
    {
     "data": {
      "text/plain": [
       "[1, 3, 5, nan, 6, 8]"
      ]
     },
     "execution_count": 9,
     "metadata": {},
     "output_type": "execute_result"
    }
   ],
   "source": [
    "t[0]"
   ]
  },
  {
   "cell_type": "code",
   "execution_count": 5,
   "metadata": {},
   "outputs": [
    {
     "name": "stdout",
     "output_type": "stream",
     "text": [
      "u['hello']: hi  u[5]: 8\n"
     ]
    }
   ],
   "source": [
    "print(\"u['hello']:\", u[\"hello\"], ' u[5]:', u[5])"
   ]
  },
  {
   "cell_type": "markdown",
   "metadata": {},
   "source": [
    "# Dataframe - 2d array"
   ]
  },
  {
   "cell_type": "code",
   "execution_count": 26,
   "metadata": {},
   "outputs": [
    {
     "name": "stdout",
     "output_type": "stream",
     "text": [
      "           a         b         1         d\n",
      "a   0.685167 -0.594003  0.526106 -0.334567\n",
      "b  -0.640999 -0.765958  1.051069  0.557890\n",
      "cc  0.695897  0.374637  0.170478 -0.549513\n",
      "d  -0.093437  1.437555  0.078734  0.187099\n",
      "2   1.745763 -0.811318  0.006612 -0.513819\n",
      "e   1.357226 -0.856825  0.536754  0.476268\n"
     ]
    }
   ],
   "source": [
    "# 2D datastructure. Default index for rows and columns are integers. \n",
    "# You can change the rows by passing index attribute and columns by passing columns attribute\n",
    "df = pd.DataFrame(np.random.randn(6,4), index=['a','b','cc', 'd',2,'e'], columns=['a','b',1,'d'])\n",
    "print (df)"
   ]
  },
  {
   "cell_type": "code",
   "execution_count": 34,
   "metadata": {},
   "outputs": [
    {
     "data": {
      "text/plain": [
       "a     0.685167\n",
       "b    -0.640999\n",
       "cc    0.695897\n",
       "d    -0.093437\n",
       "2     1.745763\n",
       "e     1.357226\n",
       "Name: a, dtype: float64"
      ]
     },
     "execution_count": 34,
     "metadata": {},
     "output_type": "execute_result"
    }
   ],
   "source": [
    "df[\"a\"] #indexes into column"
   ]
  },
  {
   "cell_type": "code",
   "execution_count": 35,
   "metadata": {},
   "outputs": [
    {
     "data": {
      "text/plain": [
       "0.6958971095331139"
      ]
     },
     "execution_count": 35,
     "metadata": {},
     "output_type": "execute_result"
    }
   ],
   "source": [
    "df[\"a\"][\"cc\"] #indexes into an element"
   ]
  },
  {
   "cell_type": "code",
   "execution_count": 38,
   "metadata": {},
   "outputs": [
    {
     "name": "stdout",
     "output_type": "stream",
     "text": [
      "    a   b   c   d\n",
      "0   1   6  11  16\n",
      "1  hi   7  12  17\n",
      "2   3   8  13  18\n",
      "3   4   9  14  19\n",
      "4   5  10  15  20\n"
     ]
    }
   ],
   "source": [
    "# You can also create a dataframe by passing  a dictionary\n",
    "df = pd.DataFrame({'a': [1,'hi',3,4,5],\n",
    "                   'b': [6,7,8,9,10],\n",
    "                   'c': [11,12,13,14,15],\n",
    "                   'd': [16,17,18,19,20]})\n",
    "print(df)"
   ]
  },
  {
   "cell_type": "code",
   "execution_count": 40,
   "metadata": {},
   "outputs": [
    {
     "name": "stdout",
     "output_type": "stream",
     "text": [
      "a    object\n",
      "b     int64\n",
      "c     int64\n",
      "d     int64\n",
      "dtype: object\n"
     ]
    }
   ],
   "source": [
    "print (df.dtypes)"
   ]
  },
  {
   "cell_type": "code",
   "execution_count": 102,
   "metadata": {},
   "outputs": [
    {
     "name": "stdout",
     "output_type": "stream",
     "text": [
      "          a         b         c         d\n",
      "0  0.504560  0.820037       NaN  0.858389\n",
      "1  0.846102  0.344087  0.572294  0.715991\n",
      "2  0.373753  0.352058       NaN  0.533771\n",
      "3  0.696601  0.861036  0.646316  0.463349\n",
      "4  0.677217  0.083729  0.374331  0.899031\n",
      "           a         b         c         d\n",
      "25  0.153476  0.302053  0.996457  0.417623\n",
      "26  0.868749  0.860391  0.630968  0.063175\n",
      "27  0.501637  0.782758  0.425776  0.099909\n",
      "28  0.732402  0.058306  0.870334  0.294619\n",
      "29  0.154485  0.676002       NaN  0.629088\n"
     ]
    }
   ],
   "source": [
    "df = pd.DataFrame(np.random.rand(30,4), columns=['a','b','c','d'])\n",
    "# Here NaN represents value is missing\n",
    "df['c'][0] = np.NAN\n",
    "df['c'][2] = np.NAN\n",
    "df['c'][29] = np.NAN\n",
    "print(df.head())\n",
    "print(df.tail())"
   ]
  },
  {
   "cell_type": "code",
   "execution_count": 103,
   "metadata": {},
   "outputs": [
    {
     "name": "stdout",
     "output_type": "stream",
     "text": [
      "RangeIndex(start=0, stop=30, step=1)\n",
      "Index(['a', 'b', 'c', 'd'], dtype='object')\n",
      "[[0.50455989 0.82003707        nan 0.85838877]\n",
      " [0.84610179 0.34408668 0.57229444 0.71599116]\n",
      " [0.37375292 0.35205804        nan 0.53377143]\n",
      " [0.69660115 0.86103623 0.64631565 0.46334907]\n",
      " [0.6772167  0.08372917 0.37433102 0.89903099]\n",
      " [0.41901738 0.20325093 0.88599504 0.56537203]\n",
      " [0.85514127 0.20336399 0.74948    0.19551213]\n",
      " [0.66367961 0.55547861 0.85395004 0.29129772]\n",
      " [0.56925973 0.70121855 0.03779832 0.0444342 ]\n",
      " [0.51783089 0.24160602 0.18888318 0.64344871]\n",
      " [0.97560023 0.67967422 0.97851643 0.78845486]\n",
      " [0.98543014 0.4398332  0.77721714 0.67177731]\n",
      " [0.23421712 0.23368179 0.21267913 0.3110895 ]\n",
      " [0.44923135 0.63661673 0.90480214 0.90677801]\n",
      " [0.28516263 0.90993745 0.90227913 0.85607377]\n",
      " [0.53507196 0.99254798 0.3252659  0.8959904 ]\n",
      " [0.3532468  0.4257623  0.00527295 0.52157429]\n",
      " [0.70966703 0.60725335 0.54952481 0.1628034 ]\n",
      " [0.47299205 0.72324079 0.01476012 0.66578827]\n",
      " [0.68601307 0.72089571 0.86510718 0.43273309]\n",
      " [0.39010532 0.20446492 0.59092982 0.6846774 ]\n",
      " [0.7167836  0.60088976 0.39403849 0.11415624]\n",
      " [0.27545366 0.57985416 0.89128981 0.72665681]\n",
      " [0.13529542 0.63734898 0.8990764  0.20129187]\n",
      " [0.68948178 0.83123241 0.60803524 0.33038262]\n",
      " [0.15347554 0.30205315 0.99645731 0.41762266]\n",
      " [0.86874871 0.86039067 0.63096765 0.06317519]\n",
      " [0.50163745 0.78275807 0.42577613 0.09990925]\n",
      " [0.73240181 0.05830633 0.87033381 0.29461904]\n",
      " [0.15448528 0.67600184        nan 0.62908792]]\n"
     ]
    }
   ],
   "source": [
    "print(df.index)\n",
    "print(df.columns)\n",
    "print(df.values)"
   ]
  },
  {
   "cell_type": "code",
   "execution_count": 104,
   "metadata": {},
   "outputs": [
    {
     "name": "stdout",
     "output_type": "stream",
     "text": [
      "               a          b          c          d\n",
      "count  30.000000  30.000000  27.000000  30.000000\n",
      "mean    0.547589   0.542287   0.598199   0.499508\n",
      "std     0.241659   0.265508   0.312520   0.276553\n",
      "min     0.135295   0.058306   0.005273   0.044434\n",
      "25%     0.377841   0.312562   0.384185   0.292128\n",
      "50%     0.526451   0.604072   0.630968   0.527673\n",
      "75%     0.706401   0.722655   0.878164   0.708163\n",
      "max     0.985430   0.992548   0.996457   0.906778\n"
     ]
    }
   ],
   "source": [
    "print (df.describe())"
   ]
  },
  {
   "cell_type": "code",
   "execution_count": 105,
   "metadata": {},
   "outputs": [
    {
     "name": "stdout",
     "output_type": "stream",
     "text": [
      "           d         c         b         a\n",
      "0   0.858389       NaN  0.820037  0.504560\n",
      "1   0.715991  0.572294  0.344087  0.846102\n",
      "2   0.533771       NaN  0.352058  0.373753\n",
      "3   0.463349  0.646316  0.861036  0.696601\n",
      "4   0.899031  0.374331  0.083729  0.677217\n",
      "5   0.565372  0.885995  0.203251  0.419017\n",
      "6   0.195512  0.749480  0.203364  0.855141\n",
      "7   0.291298  0.853950  0.555479  0.663680\n",
      "8   0.044434  0.037798  0.701219  0.569260\n",
      "9   0.643449  0.188883  0.241606  0.517831\n",
      "10  0.788455  0.978516  0.679674  0.975600\n",
      "11  0.671777  0.777217  0.439833  0.985430\n",
      "12  0.311089  0.212679  0.233682  0.234217\n",
      "13  0.906778  0.904802  0.636617  0.449231\n",
      "14  0.856074  0.902279  0.909937  0.285163\n",
      "15  0.895990  0.325266  0.992548  0.535072\n",
      "16  0.521574  0.005273  0.425762  0.353247\n",
      "17  0.162803  0.549525  0.607253  0.709667\n",
      "18  0.665788  0.014760  0.723241  0.472992\n",
      "19  0.432733  0.865107  0.720896  0.686013\n",
      "20  0.684677  0.590930  0.204465  0.390105\n",
      "21  0.114156  0.394038  0.600890  0.716784\n",
      "22  0.726657  0.891290  0.579854  0.275454\n",
      "23  0.201292  0.899076  0.637349  0.135295\n",
      "24  0.330383  0.608035  0.831232  0.689482\n",
      "25  0.417623  0.996457  0.302053  0.153476\n",
      "26  0.063175  0.630968  0.860391  0.868749\n",
      "27  0.099909  0.425776  0.782758  0.501637\n",
      "28  0.294619  0.870334  0.058306  0.732402\n",
      "29  0.629088       NaN  0.676002  0.154485\n",
      "           a         b         c         d\n",
      "29  0.154485  0.676002       NaN  0.629088\n",
      "28  0.732402  0.058306  0.870334  0.294619\n",
      "27  0.501637  0.782758  0.425776  0.099909\n",
      "26  0.868749  0.860391  0.630968  0.063175\n",
      "25  0.153476  0.302053  0.996457  0.417623\n",
      "24  0.689482  0.831232  0.608035  0.330383\n",
      "23  0.135295  0.637349  0.899076  0.201292\n",
      "22  0.275454  0.579854  0.891290  0.726657\n",
      "21  0.716784  0.600890  0.394038  0.114156\n",
      "20  0.390105  0.204465  0.590930  0.684677\n",
      "19  0.686013  0.720896  0.865107  0.432733\n",
      "18  0.472992  0.723241  0.014760  0.665788\n",
      "17  0.709667  0.607253  0.549525  0.162803\n",
      "16  0.353247  0.425762  0.005273  0.521574\n",
      "15  0.535072  0.992548  0.325266  0.895990\n",
      "14  0.285163  0.909937  0.902279  0.856074\n",
      "13  0.449231  0.636617  0.904802  0.906778\n",
      "12  0.234217  0.233682  0.212679  0.311089\n",
      "11  0.985430  0.439833  0.777217  0.671777\n",
      "10  0.975600  0.679674  0.978516  0.788455\n",
      "9   0.517831  0.241606  0.188883  0.643449\n",
      "8   0.569260  0.701219  0.037798  0.044434\n",
      "7   0.663680  0.555479  0.853950  0.291298\n",
      "6   0.855141  0.203364  0.749480  0.195512\n",
      "5   0.419017  0.203251  0.885995  0.565372\n",
      "4   0.677217  0.083729  0.374331  0.899031\n",
      "3   0.696601  0.861036  0.646316  0.463349\n",
      "2   0.373753  0.352058       NaN  0.533771\n",
      "1   0.846102  0.344087  0.572294  0.715991\n",
      "0   0.504560  0.820037       NaN  0.858389\n"
     ]
    }
   ],
   "source": [
    "# Here axis represents either row or column (only 2 axis) \n",
    "# this sorts only the index(row or column) either in ascending or descending order \n",
    "print(df.sort_index(axis=1, ascending=False))\n",
    "print(df.sort_index(axis=0, ascending=False))"
   ]
  },
  {
   "cell_type": "code",
   "execution_count": 106,
   "metadata": {},
   "outputs": [],
   "source": [
    "# This sorts values based on the column specified in either ascending or descending order\n",
    "df2 = df.sort_values(by='b', ascending = False) "
   ]
  },
  {
   "cell_type": "code",
   "execution_count": 107,
   "metadata": {},
   "outputs": [
    {
     "name": "stdout",
     "output_type": "stream",
     "text": [
      "           a         b         c         d\n",
      "15  0.535072  0.992548  0.325266  0.895990\n",
      "14  0.285163  0.909937  0.902279  0.856074\n",
      "3   0.696601  0.861036  0.646316  0.463349\n",
      "26  0.868749  0.860391  0.630968  0.063175\n",
      "\n",
      "\n",
      "Int64Index([15, 14, 3, 26], dtype='int64')\n",
      "\n",
      "\n",
      "[[0.53507196 0.99254798 0.3252659  0.8959904 ]\n",
      " [0.28516263 0.90993745 0.90227913 0.85607377]\n",
      " [0.69660115 0.86103623 0.64631565 0.46334907]\n",
      " [0.86874871 0.86039067 0.63096765 0.06317519]]\n"
     ]
    }
   ],
   "source": [
    "print(df2[0:4])\n",
    "print (\"\\n\")\n",
    "print(df2[0:4].index)\n",
    "print (\"\\n\")\n",
    "print(df2[0:4].values)"
   ]
  },
  {
   "cell_type": "markdown",
   "metadata": {},
   "source": [
    "# Selecting rows by key or index"
   ]
  },
  {
   "cell_type": "code",
   "execution_count": 108,
   "metadata": {},
   "outputs": [
    {
     "data": {
      "text/html": [
       "<div>\n",
       "<style scoped>\n",
       "    .dataframe tbody tr th:only-of-type {\n",
       "        vertical-align: middle;\n",
       "    }\n",
       "\n",
       "    .dataframe tbody tr th {\n",
       "        vertical-align: top;\n",
       "    }\n",
       "\n",
       "    .dataframe thead th {\n",
       "        text-align: right;\n",
       "    }\n",
       "</style>\n",
       "<table border=\"1\" class=\"dataframe\">\n",
       "  <thead>\n",
       "    <tr style=\"text-align: right;\">\n",
       "      <th></th>\n",
       "      <th>a</th>\n",
       "      <th>b</th>\n",
       "      <th>c</th>\n",
       "      <th>d</th>\n",
       "    </tr>\n",
       "  </thead>\n",
       "  <tbody>\n",
       "    <tr>\n",
       "      <th>22</th>\n",
       "      <td>0.275454</td>\n",
       "      <td>0.579854</td>\n",
       "      <td>0.891290</td>\n",
       "      <td>0.726657</td>\n",
       "    </tr>\n",
       "    <tr>\n",
       "      <th>3</th>\n",
       "      <td>0.696601</td>\n",
       "      <td>0.861036</td>\n",
       "      <td>0.646316</td>\n",
       "      <td>0.463349</td>\n",
       "    </tr>\n",
       "  </tbody>\n",
       "</table>\n",
       "</div>"
      ],
      "text/plain": [
       "           a         b         c         d\n",
       "22  0.275454  0.579854  0.891290  0.726657\n",
       "3   0.696601  0.861036  0.646316  0.463349"
      ]
     },
     "execution_count": 108,
     "metadata": {},
     "output_type": "execute_result"
    }
   ],
   "source": [
    "# the .loc function helps us to select particular rows based on their keys\n",
    "# the first argument can contain a list of keys of the rows that need to be returned\n",
    "df2.loc[[22,3],:]"
   ]
  },
  {
   "cell_type": "code",
   "execution_count": 109,
   "metadata": {},
   "outputs": [
    {
     "data": {
      "text/html": [
       "<div>\n",
       "<style scoped>\n",
       "    .dataframe tbody tr th:only-of-type {\n",
       "        vertical-align: middle;\n",
       "    }\n",
       "\n",
       "    .dataframe tbody tr th {\n",
       "        vertical-align: top;\n",
       "    }\n",
       "\n",
       "    .dataframe thead th {\n",
       "        text-align: right;\n",
       "    }\n",
       "</style>\n",
       "<table border=\"1\" class=\"dataframe\">\n",
       "  <thead>\n",
       "    <tr style=\"text-align: right;\">\n",
       "      <th></th>\n",
       "      <th>a</th>\n",
       "      <th>b</th>\n",
       "      <th>c</th>\n",
       "      <th>d</th>\n",
       "    </tr>\n",
       "  </thead>\n",
       "  <tbody>\n",
       "    <tr>\n",
       "      <th>15</th>\n",
       "      <td>0.535072</td>\n",
       "      <td>0.992548</td>\n",
       "      <td>0.325266</td>\n",
       "      <td>0.895990</td>\n",
       "    </tr>\n",
       "    <tr>\n",
       "      <th>14</th>\n",
       "      <td>0.285163</td>\n",
       "      <td>0.909937</td>\n",
       "      <td>0.902279</td>\n",
       "      <td>0.856074</td>\n",
       "    </tr>\n",
       "    <tr>\n",
       "      <th>3</th>\n",
       "      <td>0.696601</td>\n",
       "      <td>0.861036</td>\n",
       "      <td>0.646316</td>\n",
       "      <td>0.463349</td>\n",
       "    </tr>\n",
       "    <tr>\n",
       "      <th>26</th>\n",
       "      <td>0.868749</td>\n",
       "      <td>0.860391</td>\n",
       "      <td>0.630968</td>\n",
       "      <td>0.063175</td>\n",
       "    </tr>\n",
       "  </tbody>\n",
       "</table>\n",
       "</div>"
      ],
      "text/plain": [
       "           a         b         c         d\n",
       "15  0.535072  0.992548  0.325266  0.895990\n",
       "14  0.285163  0.909937  0.902279  0.856074\n",
       "3   0.696601  0.861036  0.646316  0.463349\n",
       "26  0.868749  0.860391  0.630968  0.063175"
      ]
     },
     "execution_count": 109,
     "metadata": {},
     "output_type": "execute_result"
    }
   ],
   "source": [
    "# the .iloc function helps us to select particular rows based on their positions in the dataframe\n",
    "# the first argument can contain a list of positions that need to be returned\n",
    "df2.iloc[0:4,:]"
   ]
  },
  {
   "cell_type": "code",
   "execution_count": 110,
   "metadata": {},
   "outputs": [
    {
     "data": {
      "text/html": [
       "<div>\n",
       "<style scoped>\n",
       "    .dataframe tbody tr th:only-of-type {\n",
       "        vertical-align: middle;\n",
       "    }\n",
       "\n",
       "    .dataframe tbody tr th {\n",
       "        vertical-align: top;\n",
       "    }\n",
       "\n",
       "    .dataframe thead th {\n",
       "        text-align: right;\n",
       "    }\n",
       "</style>\n",
       "<table border=\"1\" class=\"dataframe\">\n",
       "  <thead>\n",
       "    <tr style=\"text-align: right;\">\n",
       "      <th></th>\n",
       "      <th>a</th>\n",
       "      <th>b</th>\n",
       "      <th>c</th>\n",
       "      <th>d</th>\n",
       "    </tr>\n",
       "  </thead>\n",
       "  <tbody>\n",
       "    <tr>\n",
       "      <th>1</th>\n",
       "      <td>0.846102</td>\n",
       "      <td>0.344087</td>\n",
       "      <td>0.572294</td>\n",
       "      <td>0.715991</td>\n",
       "    </tr>\n",
       "    <tr>\n",
       "      <th>3</th>\n",
       "      <td>0.696601</td>\n",
       "      <td>0.861036</td>\n",
       "      <td>0.646316</td>\n",
       "      <td>0.463349</td>\n",
       "    </tr>\n",
       "    <tr>\n",
       "      <th>5</th>\n",
       "      <td>0.419017</td>\n",
       "      <td>0.203251</td>\n",
       "      <td>0.885995</td>\n",
       "      <td>0.565372</td>\n",
       "    </tr>\n",
       "    <tr>\n",
       "      <th>6</th>\n",
       "      <td>0.855141</td>\n",
       "      <td>0.203364</td>\n",
       "      <td>0.749480</td>\n",
       "      <td>0.195512</td>\n",
       "    </tr>\n",
       "    <tr>\n",
       "      <th>7</th>\n",
       "      <td>0.663680</td>\n",
       "      <td>0.555479</td>\n",
       "      <td>0.853950</td>\n",
       "      <td>0.291298</td>\n",
       "    </tr>\n",
       "    <tr>\n",
       "      <th>10</th>\n",
       "      <td>0.975600</td>\n",
       "      <td>0.679674</td>\n",
       "      <td>0.978516</td>\n",
       "      <td>0.788455</td>\n",
       "    </tr>\n",
       "    <tr>\n",
       "      <th>11</th>\n",
       "      <td>0.985430</td>\n",
       "      <td>0.439833</td>\n",
       "      <td>0.777217</td>\n",
       "      <td>0.671777</td>\n",
       "    </tr>\n",
       "    <tr>\n",
       "      <th>13</th>\n",
       "      <td>0.449231</td>\n",
       "      <td>0.636617</td>\n",
       "      <td>0.904802</td>\n",
       "      <td>0.906778</td>\n",
       "    </tr>\n",
       "    <tr>\n",
       "      <th>14</th>\n",
       "      <td>0.285163</td>\n",
       "      <td>0.909937</td>\n",
       "      <td>0.902279</td>\n",
       "      <td>0.856074</td>\n",
       "    </tr>\n",
       "    <tr>\n",
       "      <th>17</th>\n",
       "      <td>0.709667</td>\n",
       "      <td>0.607253</td>\n",
       "      <td>0.549525</td>\n",
       "      <td>0.162803</td>\n",
       "    </tr>\n",
       "    <tr>\n",
       "      <th>19</th>\n",
       "      <td>0.686013</td>\n",
       "      <td>0.720896</td>\n",
       "      <td>0.865107</td>\n",
       "      <td>0.432733</td>\n",
       "    </tr>\n",
       "    <tr>\n",
       "      <th>20</th>\n",
       "      <td>0.390105</td>\n",
       "      <td>0.204465</td>\n",
       "      <td>0.590930</td>\n",
       "      <td>0.684677</td>\n",
       "    </tr>\n",
       "    <tr>\n",
       "      <th>22</th>\n",
       "      <td>0.275454</td>\n",
       "      <td>0.579854</td>\n",
       "      <td>0.891290</td>\n",
       "      <td>0.726657</td>\n",
       "    </tr>\n",
       "    <tr>\n",
       "      <th>23</th>\n",
       "      <td>0.135295</td>\n",
       "      <td>0.637349</td>\n",
       "      <td>0.899076</td>\n",
       "      <td>0.201292</td>\n",
       "    </tr>\n",
       "    <tr>\n",
       "      <th>24</th>\n",
       "      <td>0.689482</td>\n",
       "      <td>0.831232</td>\n",
       "      <td>0.608035</td>\n",
       "      <td>0.330383</td>\n",
       "    </tr>\n",
       "    <tr>\n",
       "      <th>25</th>\n",
       "      <td>0.153476</td>\n",
       "      <td>0.302053</td>\n",
       "      <td>0.996457</td>\n",
       "      <td>0.417623</td>\n",
       "    </tr>\n",
       "    <tr>\n",
       "      <th>26</th>\n",
       "      <td>0.868749</td>\n",
       "      <td>0.860391</td>\n",
       "      <td>0.630968</td>\n",
       "      <td>0.063175</td>\n",
       "    </tr>\n",
       "    <tr>\n",
       "      <th>28</th>\n",
       "      <td>0.732402</td>\n",
       "      <td>0.058306</td>\n",
       "      <td>0.870334</td>\n",
       "      <td>0.294619</td>\n",
       "    </tr>\n",
       "  </tbody>\n",
       "</table>\n",
       "</div>"
      ],
      "text/plain": [
       "           a         b         c         d\n",
       "1   0.846102  0.344087  0.572294  0.715991\n",
       "3   0.696601  0.861036  0.646316  0.463349\n",
       "5   0.419017  0.203251  0.885995  0.565372\n",
       "6   0.855141  0.203364  0.749480  0.195512\n",
       "7   0.663680  0.555479  0.853950  0.291298\n",
       "10  0.975600  0.679674  0.978516  0.788455\n",
       "11  0.985430  0.439833  0.777217  0.671777\n",
       "13  0.449231  0.636617  0.904802  0.906778\n",
       "14  0.285163  0.909937  0.902279  0.856074\n",
       "17  0.709667  0.607253  0.549525  0.162803\n",
       "19  0.686013  0.720896  0.865107  0.432733\n",
       "20  0.390105  0.204465  0.590930  0.684677\n",
       "22  0.275454  0.579854  0.891290  0.726657\n",
       "23  0.135295  0.637349  0.899076  0.201292\n",
       "24  0.689482  0.831232  0.608035  0.330383\n",
       "25  0.153476  0.302053  0.996457  0.417623\n",
       "26  0.868749  0.860391  0.630968  0.063175\n",
       "28  0.732402  0.058306  0.870334  0.294619"
      ]
     },
     "execution_count": 110,
     "metadata": {},
     "output_type": "execute_result"
    }
   ],
   "source": [
    "df[df.c>0.5]"
   ]
  },
  {
   "cell_type": "code",
   "execution_count": 111,
   "metadata": {},
   "outputs": [
    {
     "data": {
      "text/html": [
       "<div>\n",
       "<style scoped>\n",
       "    .dataframe tbody tr th:only-of-type {\n",
       "        vertical-align: middle;\n",
       "    }\n",
       "\n",
       "    .dataframe tbody tr th {\n",
       "        vertical-align: top;\n",
       "    }\n",
       "\n",
       "    .dataframe thead th {\n",
       "        text-align: right;\n",
       "    }\n",
       "</style>\n",
       "<table border=\"1\" class=\"dataframe\">\n",
       "  <thead>\n",
       "    <tr style=\"text-align: right;\">\n",
       "      <th></th>\n",
       "      <th>a</th>\n",
       "      <th>b</th>\n",
       "      <th>c</th>\n",
       "      <th>d</th>\n",
       "    </tr>\n",
       "  </thead>\n",
       "  <tbody>\n",
       "    <tr>\n",
       "      <th>1</th>\n",
       "      <td>0.846102</td>\n",
       "      <td>0.344087</td>\n",
       "      <td>0.572294</td>\n",
       "      <td>0.715991</td>\n",
       "    </tr>\n",
       "    <tr>\n",
       "      <th>3</th>\n",
       "      <td>0.696601</td>\n",
       "      <td>0.861036</td>\n",
       "      <td>0.646316</td>\n",
       "      <td>0.463349</td>\n",
       "    </tr>\n",
       "    <tr>\n",
       "      <th>4</th>\n",
       "      <td>0.677217</td>\n",
       "      <td>0.083729</td>\n",
       "      <td>0.374331</td>\n",
       "      <td>0.899031</td>\n",
       "    </tr>\n",
       "    <tr>\n",
       "      <th>5</th>\n",
       "      <td>0.419017</td>\n",
       "      <td>0.203251</td>\n",
       "      <td>0.885995</td>\n",
       "      <td>0.565372</td>\n",
       "    </tr>\n",
       "    <tr>\n",
       "      <th>6</th>\n",
       "      <td>0.855141</td>\n",
       "      <td>0.203364</td>\n",
       "      <td>0.749480</td>\n",
       "      <td>0.195512</td>\n",
       "    </tr>\n",
       "  </tbody>\n",
       "</table>\n",
       "</div>"
      ],
      "text/plain": [
       "          a         b         c         d\n",
       "1  0.846102  0.344087  0.572294  0.715991\n",
       "3  0.696601  0.861036  0.646316  0.463349\n",
       "4  0.677217  0.083729  0.374331  0.899031\n",
       "5  0.419017  0.203251  0.885995  0.565372\n",
       "6  0.855141  0.203364  0.749480  0.195512"
      ]
     },
     "execution_count": 111,
     "metadata": {},
     "output_type": "execute_result"
    }
   ],
   "source": [
    "# Dropping rows with missing data\n",
    "df.dropna(how='any').head()"
   ]
  },
  {
   "cell_type": "code",
   "execution_count": 112,
   "metadata": {},
   "outputs": [
    {
     "data": {
      "text/html": [
       "<div>\n",
       "<style scoped>\n",
       "    .dataframe tbody tr th:only-of-type {\n",
       "        vertical-align: middle;\n",
       "    }\n",
       "\n",
       "    .dataframe tbody tr th {\n",
       "        vertical-align: top;\n",
       "    }\n",
       "\n",
       "    .dataframe thead th {\n",
       "        text-align: right;\n",
       "    }\n",
       "</style>\n",
       "<table border=\"1\" class=\"dataframe\">\n",
       "  <thead>\n",
       "    <tr style=\"text-align: right;\">\n",
       "      <th></th>\n",
       "      <th>a</th>\n",
       "      <th>b</th>\n",
       "      <th>c</th>\n",
       "      <th>d</th>\n",
       "    </tr>\n",
       "  </thead>\n",
       "  <tbody>\n",
       "    <tr>\n",
       "      <th>0</th>\n",
       "      <td>0.504560</td>\n",
       "      <td>0.820037</td>\n",
       "      <td>0.000000</td>\n",
       "      <td>0.858389</td>\n",
       "    </tr>\n",
       "    <tr>\n",
       "      <th>1</th>\n",
       "      <td>0.846102</td>\n",
       "      <td>0.344087</td>\n",
       "      <td>0.572294</td>\n",
       "      <td>0.715991</td>\n",
       "    </tr>\n",
       "    <tr>\n",
       "      <th>2</th>\n",
       "      <td>0.373753</td>\n",
       "      <td>0.352058</td>\n",
       "      <td>0.000000</td>\n",
       "      <td>0.533771</td>\n",
       "    </tr>\n",
       "    <tr>\n",
       "      <th>3</th>\n",
       "      <td>0.696601</td>\n",
       "      <td>0.861036</td>\n",
       "      <td>0.646316</td>\n",
       "      <td>0.463349</td>\n",
       "    </tr>\n",
       "    <tr>\n",
       "      <th>4</th>\n",
       "      <td>0.677217</td>\n",
       "      <td>0.083729</td>\n",
       "      <td>0.374331</td>\n",
       "      <td>0.899031</td>\n",
       "    </tr>\n",
       "  </tbody>\n",
       "</table>\n",
       "</div>"
      ],
      "text/plain": [
       "          a         b         c         d\n",
       "0  0.504560  0.820037  0.000000  0.858389\n",
       "1  0.846102  0.344087  0.572294  0.715991\n",
       "2  0.373753  0.352058  0.000000  0.533771\n",
       "3  0.696601  0.861036  0.646316  0.463349\n",
       "4  0.677217  0.083729  0.374331  0.899031"
      ]
     },
     "execution_count": 112,
     "metadata": {},
     "output_type": "execute_result"
    }
   ],
   "source": [
    "df.fillna(value=0).head()"
   ]
  },
  {
   "cell_type": "code",
   "execution_count": 114,
   "metadata": {},
   "outputs": [
    {
     "name": "stdout",
     "output_type": "stream",
     "text": [
      "     5.1  3.5  1.4  0.2     Iris-setosa\n",
      "0    4.9  3.0  1.4  0.2     Iris-setosa\n",
      "1    4.7  3.2  1.3  0.2     Iris-setosa\n",
      "2    4.6  3.1  1.5  0.2     Iris-setosa\n",
      "3    5.0  3.6  1.4  0.2     Iris-setosa\n",
      "4    5.4  3.9  1.7  0.4     Iris-setosa\n",
      "5    4.6  3.4  1.4  0.3     Iris-setosa\n",
      "6    5.0  3.4  1.5  0.2     Iris-setosa\n",
      "7    4.4  2.9  1.4  0.2     Iris-setosa\n",
      "8    4.9  3.1  1.5  0.1     Iris-setosa\n",
      "9    5.4  3.7  1.5  0.2     Iris-setosa\n",
      "10   4.8  3.4  1.6  0.2     Iris-setosa\n",
      "11   4.8  3.0  1.4  0.1     Iris-setosa\n",
      "12   4.3  3.0  1.1  0.1     Iris-setosa\n",
      "13   5.8  4.0  1.2  0.2     Iris-setosa\n",
      "14   5.7  4.4  1.5  0.4     Iris-setosa\n",
      "15   5.4  3.9  1.3  0.4     Iris-setosa\n",
      "16   5.1  3.5  1.4  0.3     Iris-setosa\n",
      "17   5.7  3.8  1.7  0.3     Iris-setosa\n",
      "18   5.1  3.8  1.5  0.3     Iris-setosa\n",
      "19   5.4  3.4  1.7  0.2     Iris-setosa\n",
      "20   5.1  3.7  1.5  0.4     Iris-setosa\n",
      "21   4.6  3.6  1.0  0.2     Iris-setosa\n",
      "22   5.1  3.3  1.7  0.5     Iris-setosa\n",
      "23   4.8  3.4  1.9  0.2     Iris-setosa\n",
      "24   5.0  3.0  1.6  0.2     Iris-setosa\n",
      "25   5.0  3.4  1.6  0.4     Iris-setosa\n",
      "26   5.2  3.5  1.5  0.2     Iris-setosa\n",
      "27   5.2  3.4  1.4  0.2     Iris-setosa\n",
      "28   4.7  3.2  1.6  0.2     Iris-setosa\n",
      "29   4.8  3.1  1.6  0.2     Iris-setosa\n",
      "..   ...  ...  ...  ...             ...\n",
      "119  6.9  3.2  5.7  2.3  Iris-virginica\n",
      "120  5.6  2.8  4.9  2.0  Iris-virginica\n",
      "121  7.7  2.8  6.7  2.0  Iris-virginica\n",
      "122  6.3  2.7  4.9  1.8  Iris-virginica\n",
      "123  6.7  3.3  5.7  2.1  Iris-virginica\n",
      "124  7.2  3.2  6.0  1.8  Iris-virginica\n",
      "125  6.2  2.8  4.8  1.8  Iris-virginica\n",
      "126  6.1  3.0  4.9  1.8  Iris-virginica\n",
      "127  6.4  2.8  5.6  2.1  Iris-virginica\n",
      "128  7.2  3.0  5.8  1.6  Iris-virginica\n",
      "129  7.4  2.8  6.1  1.9  Iris-virginica\n",
      "130  7.9  3.8  6.4  2.0  Iris-virginica\n",
      "131  6.4  2.8  5.6  2.2  Iris-virginica\n",
      "132  6.3  2.8  5.1  1.5  Iris-virginica\n",
      "133  6.1  2.6  5.6  1.4  Iris-virginica\n",
      "134  7.7  3.0  6.1  2.3  Iris-virginica\n",
      "135  6.3  3.4  5.6  2.4  Iris-virginica\n",
      "136  6.4  3.1  5.5  1.8  Iris-virginica\n",
      "137  6.0  3.0  4.8  1.8  Iris-virginica\n",
      "138  6.9  3.1  5.4  2.1  Iris-virginica\n",
      "139  6.7  3.1  5.6  2.4  Iris-virginica\n",
      "140  6.9  3.1  5.1  2.3  Iris-virginica\n",
      "141  5.8  2.7  5.1  1.9  Iris-virginica\n",
      "142  6.8  3.2  5.9  2.3  Iris-virginica\n",
      "143  6.7  3.3  5.7  2.5  Iris-virginica\n",
      "144  6.7  3.0  5.2  2.3  Iris-virginica\n",
      "145  6.3  2.5  5.0  1.9  Iris-virginica\n",
      "146  6.5  3.0  5.2  2.0  Iris-virginica\n",
      "147  6.2  3.4  5.4  2.3  Iris-virginica\n",
      "148  5.9  3.0  5.1  1.8  Iris-virginica\n",
      "\n",
      "[149 rows x 5 columns]\n"
     ]
    }
   ],
   "source": [
    "url = \"https://archive.ics.uci.edu/ml/machine-learning-databases/iris/iris.data\"\n",
    "# load dataset into Pandas DataFrame\n",
    "df = pd.read_csv(url) # invalid as it treats first row as column names\n",
    "print(df) "
   ]
  },
  {
   "cell_type": "code",
   "execution_count": 116,
   "metadata": {},
   "outputs": [
    {
     "name": "stdout",
     "output_type": "stream",
     "text": [
      "     sepal length  sepal width  petal length  petal width          target\n",
      "0             5.1          3.5           1.4          0.2     Iris-setosa\n",
      "1             4.9          3.0           1.4          0.2     Iris-setosa\n",
      "2             4.7          3.2           1.3          0.2     Iris-setosa\n",
      "3             4.6          3.1           1.5          0.2     Iris-setosa\n",
      "4             5.0          3.6           1.4          0.2     Iris-setosa\n",
      "5             5.4          3.9           1.7          0.4     Iris-setosa\n",
      "6             4.6          3.4           1.4          0.3     Iris-setosa\n",
      "7             5.0          3.4           1.5          0.2     Iris-setosa\n",
      "8             4.4          2.9           1.4          0.2     Iris-setosa\n",
      "9             4.9          3.1           1.5          0.1     Iris-setosa\n",
      "10            5.4          3.7           1.5          0.2     Iris-setosa\n",
      "11            4.8          3.4           1.6          0.2     Iris-setosa\n",
      "12            4.8          3.0           1.4          0.1     Iris-setosa\n",
      "13            4.3          3.0           1.1          0.1     Iris-setosa\n",
      "14            5.8          4.0           1.2          0.2     Iris-setosa\n",
      "15            5.7          4.4           1.5          0.4     Iris-setosa\n",
      "16            5.4          3.9           1.3          0.4     Iris-setosa\n",
      "17            5.1          3.5           1.4          0.3     Iris-setosa\n",
      "18            5.7          3.8           1.7          0.3     Iris-setosa\n",
      "19            5.1          3.8           1.5          0.3     Iris-setosa\n",
      "20            5.4          3.4           1.7          0.2     Iris-setosa\n",
      "21            5.1          3.7           1.5          0.4     Iris-setosa\n",
      "22            4.6          3.6           1.0          0.2     Iris-setosa\n",
      "23            5.1          3.3           1.7          0.5     Iris-setosa\n",
      "24            4.8          3.4           1.9          0.2     Iris-setosa\n",
      "25            5.0          3.0           1.6          0.2     Iris-setosa\n",
      "26            5.0          3.4           1.6          0.4     Iris-setosa\n",
      "27            5.2          3.5           1.5          0.2     Iris-setosa\n",
      "28            5.2          3.4           1.4          0.2     Iris-setosa\n",
      "29            4.7          3.2           1.6          0.2     Iris-setosa\n",
      "..            ...          ...           ...          ...             ...\n",
      "120           6.9          3.2           5.7          2.3  Iris-virginica\n",
      "121           5.6          2.8           4.9          2.0  Iris-virginica\n",
      "122           7.7          2.8           6.7          2.0  Iris-virginica\n",
      "123           6.3          2.7           4.9          1.8  Iris-virginica\n",
      "124           6.7          3.3           5.7          2.1  Iris-virginica\n",
      "125           7.2          3.2           6.0          1.8  Iris-virginica\n",
      "126           6.2          2.8           4.8          1.8  Iris-virginica\n",
      "127           6.1          3.0           4.9          1.8  Iris-virginica\n",
      "128           6.4          2.8           5.6          2.1  Iris-virginica\n",
      "129           7.2          3.0           5.8          1.6  Iris-virginica\n",
      "130           7.4          2.8           6.1          1.9  Iris-virginica\n",
      "131           7.9          3.8           6.4          2.0  Iris-virginica\n",
      "132           6.4          2.8           5.6          2.2  Iris-virginica\n",
      "133           6.3          2.8           5.1          1.5  Iris-virginica\n",
      "134           6.1          2.6           5.6          1.4  Iris-virginica\n",
      "135           7.7          3.0           6.1          2.3  Iris-virginica\n",
      "136           6.3          3.4           5.6          2.4  Iris-virginica\n",
      "137           6.4          3.1           5.5          1.8  Iris-virginica\n",
      "138           6.0          3.0           4.8          1.8  Iris-virginica\n",
      "139           6.9          3.1           5.4          2.1  Iris-virginica\n",
      "140           6.7          3.1           5.6          2.4  Iris-virginica\n",
      "141           6.9          3.1           5.1          2.3  Iris-virginica\n",
      "142           5.8          2.7           5.1          1.9  Iris-virginica\n",
      "143           6.8          3.2           5.9          2.3  Iris-virginica\n",
      "144           6.7          3.3           5.7          2.5  Iris-virginica\n",
      "145           6.7          3.0           5.2          2.3  Iris-virginica\n",
      "146           6.3          2.5           5.0          1.9  Iris-virginica\n",
      "147           6.5          3.0           5.2          2.0  Iris-virginica\n",
      "148           6.2          3.4           5.4          2.3  Iris-virginica\n",
      "149           5.9          3.0           5.1          1.8  Iris-virginica\n",
      "\n",
      "[150 rows x 5 columns]\n"
     ]
    }
   ],
   "source": [
    "df1 = pd.read_csv(url, names=['sepal length','sepal width','petal length','petal width','target'])\n",
    "print(df1)"
   ]
  },
  {
   "cell_type": "code",
   "execution_count": null,
   "metadata": {},
   "outputs": [],
   "source": []
  }
 ],
 "metadata": {
  "kernelspec": {
   "display_name": "Python 3",
   "language": "python",
   "name": "python3"
  },
  "language_info": {
   "codemirror_mode": {
    "name": "ipython",
    "version": 3
   },
   "file_extension": ".py",
   "mimetype": "text/x-python",
   "name": "python",
   "nbconvert_exporter": "python",
   "pygments_lexer": "ipython3",
   "version": "3.6.4"
  }
 },
 "nbformat": 4,
 "nbformat_minor": 2
}
